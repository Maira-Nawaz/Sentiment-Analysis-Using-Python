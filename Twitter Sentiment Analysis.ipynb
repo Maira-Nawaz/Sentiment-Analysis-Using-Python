{
 "cells": [
  {
   "cell_type": "markdown",
   "id": "23724271-b906-4d98-b40c-23790ad08c74",
   "metadata": {},
   "source": [
    "# Twitter Sentiment Analysis using Python"
   ]
  },
  {
   "cell_type": "markdown",
   "id": "9326fdb9-8d3d-4034-beba-a2f88dd8e172",
   "metadata": {},
   "source": [
    "The Twitter Sentiment Analysis Project focuses on analyzing sentiments expressed in tweets about a specific topic or keyword to gain insights into public opinion.Sentiment analysis falls under the domain of natural language processing and is crucial for monitoring user sentiments across social media platforms. Twitter, in particular, often showcases a prevalence of negative opinions, especially during political discussions. It is essential for these platforms to regularly conduct sentiment analysis to identify users who contribute to the spread of hate and negativity within their communities."
   ]
  },
  {
   "cell_type": "markdown",
   "id": "615226b5-ae3d-4fed-b585-e8a0621b2e2c",
   "metadata": {},
   "source": [
    "### importing necessary modules"
   ]
  },
  {
   "cell_type": "code",
   "execution_count": 1,
   "id": "fde908d6-282d-40f2-8142-003a76f6e16a",
   "metadata": {},
   "outputs": [],
   "source": [
    "import pandas as pd\n",
    "import numpy as np\n",
    "from sklearn.feature_extraction.text import CountVectorizer\n",
    "from sklearn.model_selection import train_test_split\n",
    "from sklearn.tree import DecisionTreeClassifier\n",
    "import re\n",
    "import nltk\n",
    "import nltk"
   ]
  },
  {
   "cell_type": "code",
   "execution_count": 3,
   "id": "18766763-43e9-4d1c-bbbb-472e2bf5bca4",
   "metadata": {},
   "outputs": [
    {
     "data": {
      "text/html": [
       "<div>\n",
       "<style scoped>\n",
       "    .dataframe tbody tr th:only-of-type {\n",
       "        vertical-align: middle;\n",
       "    }\n",
       "\n",
       "    .dataframe tbody tr th {\n",
       "        vertical-align: top;\n",
       "    }\n",
       "\n",
       "    .dataframe thead th {\n",
       "        text-align: right;\n",
       "    }\n",
       "</style>\n",
       "<table border=\"1\" class=\"dataframe\">\n",
       "  <thead>\n",
       "    <tr style=\"text-align: right;\">\n",
       "      <th></th>\n",
       "      <th>Unnamed: 0</th>\n",
       "      <th>count</th>\n",
       "      <th>hate_speech</th>\n",
       "      <th>offensive_language</th>\n",
       "      <th>neither</th>\n",
       "      <th>class</th>\n",
       "      <th>tweet</th>\n",
       "    </tr>\n",
       "  </thead>\n",
       "  <tbody>\n",
       "    <tr>\n",
       "      <th>0</th>\n",
       "      <td>0</td>\n",
       "      <td>3</td>\n",
       "      <td>0</td>\n",
       "      <td>0</td>\n",
       "      <td>3</td>\n",
       "      <td>2</td>\n",
       "      <td>!!! RT @mayasolovely: As a woman you shouldn't...</td>\n",
       "    </tr>\n",
       "    <tr>\n",
       "      <th>1</th>\n",
       "      <td>1</td>\n",
       "      <td>3</td>\n",
       "      <td>0</td>\n",
       "      <td>3</td>\n",
       "      <td>0</td>\n",
       "      <td>1</td>\n",
       "      <td>!!!!! RT @mleew17: boy dats cold...tyga dwn ba...</td>\n",
       "    </tr>\n",
       "    <tr>\n",
       "      <th>2</th>\n",
       "      <td>2</td>\n",
       "      <td>3</td>\n",
       "      <td>0</td>\n",
       "      <td>3</td>\n",
       "      <td>0</td>\n",
       "      <td>1</td>\n",
       "      <td>!!!!!!! RT @UrKindOfBrand Dawg!!!! RT @80sbaby...</td>\n",
       "    </tr>\n",
       "    <tr>\n",
       "      <th>3</th>\n",
       "      <td>3</td>\n",
       "      <td>3</td>\n",
       "      <td>0</td>\n",
       "      <td>2</td>\n",
       "      <td>1</td>\n",
       "      <td>1</td>\n",
       "      <td>!!!!!!!!! RT @C_G_Anderson: @viva_based she lo...</td>\n",
       "    </tr>\n",
       "    <tr>\n",
       "      <th>4</th>\n",
       "      <td>4</td>\n",
       "      <td>6</td>\n",
       "      <td>0</td>\n",
       "      <td>6</td>\n",
       "      <td>0</td>\n",
       "      <td>1</td>\n",
       "      <td>!!!!!!!!!!!!! RT @ShenikaRoberts: The shit you...</td>\n",
       "    </tr>\n",
       "  </tbody>\n",
       "</table>\n",
       "</div>"
      ],
      "text/plain": [
       "   Unnamed: 0  count  hate_speech  offensive_language  neither  class  \\\n",
       "0           0      3            0                   0        3      2   \n",
       "1           1      3            0                   3        0      1   \n",
       "2           2      3            0                   3        0      1   \n",
       "3           3      3            0                   2        1      1   \n",
       "4           4      6            0                   6        0      1   \n",
       "\n",
       "                                               tweet  \n",
       "0  !!! RT @mayasolovely: As a woman you shouldn't...  \n",
       "1  !!!!! RT @mleew17: boy dats cold...tyga dwn ba...  \n",
       "2  !!!!!!! RT @UrKindOfBrand Dawg!!!! RT @80sbaby...  \n",
       "3  !!!!!!!!! RT @C_G_Anderson: @viva_based she lo...  \n",
       "4  !!!!!!!!!!!!! RT @ShenikaRoberts: The shit you...  "
      ]
     },
     "execution_count": 3,
     "metadata": {},
     "output_type": "execute_result"
    }
   ],
   "source": [
    "#load the dataset\n",
    "data = pd.read_csv(\"C:\\\\Users\\\\hp\\\\Downloads\\\\twitter.csv\")\n",
    "data.head()"
   ]
  },
  {
   "cell_type": "markdown",
   "id": "fbf7b643-39a4-48d3-813d-4fefb7437741",
   "metadata": {},
   "source": [
    "The tweet column in the dataset holds the tweets we need for analyzing user sentiments in the discussion. "
   ]
  },
  {
   "cell_type": "markdown",
   "id": "d620da03-4e0a-4b47-8cb5-182a4e118cfc",
   "metadata": {},
   "source": [
    "### Cleaning the tweet column"
   ]
  },
  {
   "cell_type": "code",
   "execution_count": 9,
   "id": "89d2bc3c-7bc7-4d71-af2f-07e29d1f310e",
   "metadata": {},
   "outputs": [
    {
     "name": "stderr",
     "output_type": "stream",
     "text": [
      "[nltk_data] Downloading package stopwords to\n",
      "[nltk_data]     C:\\Users\\hp\\AppData\\Roaming\\nltk_data...\n",
      "[nltk_data]   Package stopwords is already up-to-date!\n"
     ]
    }
   ],
   "source": [
    "nltk.download('stopwords') \n",
    "stemmer = nltk.SnowballStemmer(\"english\")\n",
    "from nltk.corpus import stopwords\n",
    "import string\n",
    "stopword=set(stopwords.words('english'))\n",
    "\n",
    "def clean(text):\n",
    "    text = str(text).lower()\n",
    "    text = re.sub('\\\\[.*?\\\\]', '', text)\n",
    "    text = re.sub('https?:\\\\S+|www\\\\.\\\\S+', '', text)\n",
    "    text = re.sub('<.*?>+', '', text)\n",
    "    text = re.sub('[%s]' % re.escape(string.punctuation), '', text)\n",
    "    text = re.sub('\\\\n', '', text)\n",
    "    text = re.sub('\\\\w*\\\\d\\\\w*', '', text)\n",
    "    text = [word for word in text.split(' ') if word not in stopword]\n",
    "    text=\" \".join(text)\n",
    "    text = [stemmer.stem(word) for word in text.split(' ')]\n",
    "    text=\" \".join(text)\n",
    "    return text\n",
    "data[\"tweet\"] = data[\"tweet\"].apply(clean)"
   ]
  },
  {
   "cell_type": "markdown",
   "id": "5843b862-88b0-44f0-bc9b-040157c9a482",
   "metadata": {},
   "source": [
    "### Explaination: \n",
    "\n",
    "**nltk**: The Natural Language Toolkit (NLTK) is a library for working with human language data.\n",
    "\n",
    "**re**: This module provides support for regular expressions, which are used for searching and manipulating strings.\n",
    "\n",
    "**string**: This module contains common string operations, such as punctuation handling.\n",
    "\n",
    "**nltk.download('stopwords')**\n",
    "This line downloads the list of common stopwords (e.g., \"the,\" \"is,\" \"in\") from the NLTK library, which are typically removed from text during preprocessing as they carry little meaning.\n",
    "\n",
    "**stemmer = nltk.SnowballStemmer(\"english\")**\n",
    "This initializes a stemmer for the English language using the Snowball algorithm. Stemming reduces words to their base or root form (e.g., \"running\" becomes \"run\").\n",
    "\n",
    "**def clean(text)**  Defines a function named clean that takes a string text (each tweet) as input.\n",
    "\n",
    "Inside the clean Function:\n",
    "\n",
    "**text = str(text).lower()**: Converts the text to lowercase for uniformity.\n",
    "\n",
    "**text = re.sub('\\[.*?\\]', '', text)**: Removes any text within square brackets.\n",
    "\n",
    "**text = re.sub('https?://\\S+|www\\.\\S+', '', text)**: Removes any URLs from the text.\n",
    "\n",
    "**text = re.sub('<.*?>+', '', text)**: Removes HTML tags from the text.\n",
    "\n",
    "**text = re.sub('[%s]' % re.escape(string.punctuation), '', text)**: Removes all punctuation from the text.\n",
    "\n",
    "**text = re.sub('\\n', '', text)**: Removes newline characters.\n",
    "\n",
    "**text = re.sub('\\w*\\d\\w*', '', text)**: Removes words containing digits.\n",
    "\n",
    "**text = [word for word in text.split(' ') if word not in stopword]**: Filters out stopwords from the text.\n",
    "\n",
    "**text = \" \".join(text)**: Joins the remaining words back into a single string.\n",
    "\n",
    "**text = [stemmer.stem(word) for word in text.split(' ')]**: Applies stemming to each remaining word.\n",
    "\n",
    "**text = \" \".join(text)**: Joins the stemmed words back into a single string."
   ]
  },
  {
   "cell_type": "markdown",
   "id": "cacdefda-7a9d-4318-861d-0b81997f10fd",
   "metadata": {},
   "source": [
    "### Calculate the sentiment scores"
   ]
  },
  {
   "cell_type": "markdown",
   "id": "dc17958e-628e-4846-a70e-afdc63038d08",
   "metadata": {},
   "source": [
    "Now, the next step is to calculate the sentiment scores of these tweets and assign a label to the tweets as positive, negative, or neutral. Here is how you can calculate the sentiment scores of the tweets:"
   ]
  },
  {
   "cell_type": "code",
   "execution_count": 11,
   "id": "be9d7f5e-183a-4df3-9f86-0892419fd788",
   "metadata": {},
   "outputs": [
    {
     "name": "stderr",
     "output_type": "stream",
     "text": [
      "[nltk_data] Downloading package vader_lexicon to\n",
      "[nltk_data]     C:\\Users\\hp\\AppData\\Roaming\\nltk_data...\n"
     ]
    }
   ],
   "source": [
    "from nltk.sentiment.vader import SentimentIntensityAnalyzer\n",
    "nltk.download('vader_lexicon')\n",
    "sentiments = SentimentIntensityAnalyzer()\n",
    "data[\"Positive\"] = [sentiments.polarity_scores(i)[\"pos\"] for i in data[\"tweet\"]]\n",
    "data[\"Negative\"] = [sentiments.polarity_scores(i)[\"neg\"] for i in data[\"tweet\"]]\n",
    "data[\"Neutral\"] = [sentiments.polarity_scores(i)[\"neu\"] for i in data[\"tweet\"]]"
   ]
  },
  {
   "cell_type": "markdown",
   "id": "bb6f64a1-2c90-42fc-90db-e0d49655e3f0",
   "metadata": {},
   "source": [
    "#### Select the columns from this data that we need for the rest of the task of Twitter sentiment analysis:"
   ]
  },
  {
   "cell_type": "code",
   "execution_count": 13,
   "id": "73917df8-c78f-4b36-aa0b-93a5ad8c9012",
   "metadata": {},
   "outputs": [
    {
     "data": {
      "text/html": [
       "<div>\n",
       "<style scoped>\n",
       "    .dataframe tbody tr th:only-of-type {\n",
       "        vertical-align: middle;\n",
       "    }\n",
       "\n",
       "    .dataframe tbody tr th {\n",
       "        vertical-align: top;\n",
       "    }\n",
       "\n",
       "    .dataframe thead th {\n",
       "        text-align: right;\n",
       "    }\n",
       "</style>\n",
       "<table border=\"1\" class=\"dataframe\">\n",
       "  <thead>\n",
       "    <tr style=\"text-align: right;\">\n",
       "      <th></th>\n",
       "      <th>tweet</th>\n",
       "      <th>Positive</th>\n",
       "      <th>Negative</th>\n",
       "      <th>Neutral</th>\n",
       "    </tr>\n",
       "  </thead>\n",
       "  <tbody>\n",
       "    <tr>\n",
       "      <th>0</th>\n",
       "      <td>rt mayasolov woman shouldnt complain clean ho...</td>\n",
       "      <td>0.147</td>\n",
       "      <td>0.157</td>\n",
       "      <td>0.696</td>\n",
       "    </tr>\n",
       "    <tr>\n",
       "      <th>1</th>\n",
       "      <td>rt  boy dat coldtyga dwn bad cuffin dat hoe  ...</td>\n",
       "      <td>0.000</td>\n",
       "      <td>0.280</td>\n",
       "      <td>0.720</td>\n",
       "    </tr>\n",
       "    <tr>\n",
       "      <th>2</th>\n",
       "      <td>rt urkindofbrand dawg rt  ever fuck bitch sta...</td>\n",
       "      <td>0.000</td>\n",
       "      <td>0.577</td>\n",
       "      <td>0.423</td>\n",
       "    </tr>\n",
       "    <tr>\n",
       "      <th>3</th>\n",
       "      <td>rt cganderson vivaba look like tranni</td>\n",
       "      <td>0.333</td>\n",
       "      <td>0.000</td>\n",
       "      <td>0.667</td>\n",
       "    </tr>\n",
       "    <tr>\n",
       "      <th>4</th>\n",
       "      <td>rt shenikarobert shit hear might true might f...</td>\n",
       "      <td>0.154</td>\n",
       "      <td>0.407</td>\n",
       "      <td>0.440</td>\n",
       "    </tr>\n",
       "  </tbody>\n",
       "</table>\n",
       "</div>"
      ],
      "text/plain": [
       "                                               tweet  Positive  Negative  \\\n",
       "0   rt mayasolov woman shouldnt complain clean ho...     0.147     0.157   \n",
       "1   rt  boy dat coldtyga dwn bad cuffin dat hoe  ...     0.000     0.280   \n",
       "2   rt urkindofbrand dawg rt  ever fuck bitch sta...     0.000     0.577   \n",
       "3              rt cganderson vivaba look like tranni     0.333     0.000   \n",
       "4   rt shenikarobert shit hear might true might f...     0.154     0.407   \n",
       "\n",
       "   Neutral  \n",
       "0    0.696  \n",
       "1    0.720  \n",
       "2    0.423  \n",
       "3    0.667  \n",
       "4    0.440  "
      ]
     },
     "execution_count": 13,
     "metadata": {},
     "output_type": "execute_result"
    }
   ],
   "source": [
    "data = data[[\"tweet\", \"Positive\", \n",
    "             \"Negative\", \"Neutral\"]]\n",
    "data.head()"
   ]
  },
  {
   "cell_type": "code",
   "execution_count": null,
   "id": "0710ac7c-f5c2-406b-8049-faff6ee5c835",
   "metadata": {},
   "outputs": [],
   "source": []
  },
  {
   "cell_type": "code",
   "execution_count": 14,
   "id": "38a9114a-17f4-46ef-8d2e-6e1fdedc46bc",
   "metadata": {},
   "outputs": [
    {
     "name": "stdout",
     "output_type": "stream",
     "text": [
      "Neutral 🙂 \n"
     ]
    }
   ],
   "source": [
    "x = sum(data[\"Positive\"])\n",
    "y = sum(data[\"Negative\"])\n",
    "z = sum(data[\"Neutral\"])\n",
    "\n",
    "def sentiment_score(a, b, c):\n",
    "    if (a>b) and (a>c):\n",
    "        print(\"Positive 😊 \")\n",
    "    elif (b>a) and (b>c):\n",
    "        print(\"Negative 😠 \")\n",
    "    else:\n",
    "        print(\"Neutral 🙂 \")\n",
    "sentiment_score(x, y, z)"
   ]
  },
  {
   "cell_type": "markdown",
   "id": "933a5e07-aa2a-4d15-b7e0-a41623d2550a",
   "metadata": {},
   "source": [
    "The code calculates the total counts of positive, negative, and neutral sentiments from a dataset.\n",
    "It defines a function to evaluate which sentiment is the most prominent and prints an appropriate message with an emoji indicating the result:\n",
    "Positive if positive sentiments are the highest,\n",
    "Negative if negative sentiments are the highest,\n",
    "Neutral otherwise."
   ]
  },
  {
   "cell_type": "markdown",
   "id": "cb9c01c1-c436-4bf9-9218-517518fbfeac",
   "metadata": {},
   "source": [
    "So the most of the tweets are neutral, which means they are neither positive nor negative. Now let’s have a look at the total of the sentiment scores:"
   ]
  },
  {
   "cell_type": "code",
   "execution_count": 16,
   "id": "af782e23-8682-4205-8d36-da1c98a42864",
   "metadata": {},
   "outputs": [
    {
     "name": "stdout",
     "output_type": "stream",
     "text": [
      "Positive:  2895.841\n",
      "Negative:  7234.573\n",
      "Neutral:  14647.58\n"
     ]
    }
   ],
   "source": [
    "print(\"Positive: \", x)\n",
    "print(\"Negative: \", y)\n",
    "print(\"Neutral: \", z)"
   ]
  },
  {
   "cell_type": "markdown",
   "id": "e3d8cbd8-389e-41d8-8b8f-94632da00e4c",
   "metadata": {},
   "source": [
    "The total of neutral is way higher than negative and positive, but out of all the tweets, the negative tweets are more than the positive tweets, so we can say that most of the opinions are negative."
   ]
  },
  {
   "cell_type": "code",
   "execution_count": null,
   "id": "d33dbb1a-a983-474b-a45f-14d80274f558",
   "metadata": {},
   "outputs": [],
   "source": []
  }
 ],
 "metadata": {
  "kernelspec": {
   "display_name": "Python 3 (ipykernel)",
   "language": "python",
   "name": "python3"
  },
  "language_info": {
   "codemirror_mode": {
    "name": "ipython",
    "version": 3
   },
   "file_extension": ".py",
   "mimetype": "text/x-python",
   "name": "python",
   "nbconvert_exporter": "python",
   "pygments_lexer": "ipython3",
   "version": "3.12.4"
  }
 },
 "nbformat": 4,
 "nbformat_minor": 5
}
